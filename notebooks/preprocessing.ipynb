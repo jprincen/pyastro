{
 "cells": [
  {
   "cell_type": "code",
   "execution_count": null,
   "id": "e59b004a",
   "metadata": {},
   "outputs": [],
   "source": [
    "%load_ext autoreload\n",
    "%autoreload 2\n",
    "\n",
    "import astroalign as aa\n",
    "import cv2\n",
    "import glob\n",
    "import matplotlib.pyplot as plt\n",
    "import numpy as np\n",
    "import os\n",
    "import skimage as sk\n",
    "\n",
    "import sys\n",
    "sys.path.append(\"/home/jprincen/astronomy/pyastro\")"
   ]
  },
  {
   "cell_type": "code",
   "execution_count": null,
   "id": "aa931e90",
   "metadata": {},
   "outputs": [],
   "source": [
    "from image_collection import ImageCollection, RawImageCollection, RgbImageCollection\n",
    "from drizzle import Drizzle\n",
    "from stack import align_images\n",
    "from calibrate import calibrate_lights\n",
    "from utils import stretch_rgb_image"
   ]
  },
  {
   "cell_type": "code",
   "execution_count": null,
   "id": "e6b84cce",
   "metadata": {},
   "outputs": [],
   "source": [
    "CAPTURE='2023-07-21'\n",
    "DATA_BASE=os.path.join('/media/jprincen/HD', CAPTURE)\n",
    "BIAS_DIR = os.path.join(DATA_BASE, 'biases')\n",
    "DARK_DIR = os.path.join(DATA_BASE, 'darks')\n",
    "FLAT_DIR = os.path.join(DATA_BASE, 'flats')\n",
    "LIGHT_DIR = os.path.join(DATA_BASE, 'lights')"
   ]
  },
  {
   "cell_type": "code",
   "execution_count": null,
   "id": "16ffd74d",
   "metadata": {},
   "outputs": [],
   "source": [
    "bias_files = glob.glob(os.path.join(BIAS_DIR, \"*.fits\"))\n",
    "dark_files = glob.glob(os.path.join(DARK_DIR, \"*.fits\"))\n",
    "flat_files = glob.glob(os.path.join(FLAT_DIR, \"*.fits\"))\n",
    "light_files = glob.glob(os.path.join(LIGHT_DIR, \"*.fits\"))"
   ]
  },
  {
   "cell_type": "code",
   "execution_count": null,
   "id": "7f431636",
   "metadata": {},
   "outputs": [],
   "source": [
    "biases = RawImageCollection.from_files(bias_files)\n",
    "flats = RawImageCollection.from_files(flat_files)\n",
    "darks = RawImageCollection.from_files(dark_files)\n",
    "lights = RawImageCollection.from_files(light_files)"
   ]
  },
  {
   "cell_type": "code",
   "execution_count": null,
   "id": "50b322a0",
   "metadata": {
    "scrolled": true
   },
   "outputs": [],
   "source": [
    "# Use biases, darks and flats to calibrate lights\n",
    "lights_c = calibrate_lights(biases, darks, flats, lights)"
   ]
  },
  {
   "cell_type": "code",
   "execution_count": null,
   "id": "2fae2219",
   "metadata": {},
   "outputs": [],
   "source": [
    "img = lights_c[59]\n",
    "p2, p98 = np.percentile(img, (2, 98))\n",
    "l_rescale = sk.exposure.rescale_intensity(img, in_range=(p2, p98))\n",
    "plt.imshow(l_rescale / np.max(l_rescale), cmap=\"gray\")"
   ]
  },
  {
   "cell_type": "code",
   "execution_count": null,
   "id": "0ffe184d",
   "metadata": {},
   "outputs": [],
   "source": [
    "# debayer to RGB\n",
    "rgb_lights = RgbImageCollection.from_raw_collection(lights_c/np.max(lights_c[0]), (1500, 2500), (2000, 4000))"
   ]
  },
  {
   "cell_type": "code",
   "execution_count": null,
   "id": "a5b93e53",
   "metadata": {},
   "outputs": [],
   "source": [
    "# Align images to reference image 10\n",
    "aligned_lights = align_images(rgb_lights, 10)"
   ]
  },
  {
   "cell_type": "code",
   "execution_count": null,
   "id": "27dde4ab",
   "metadata": {},
   "outputs": [],
   "source": [
    "# Try different summing strategies. Median is better is there are outliers\n",
    "sum_lights = aligned_lights.mean()\n",
    "med_lights = aligned_lights.median()"
   ]
  },
  {
   "cell_type": "code",
   "execution_count": null,
   "id": "1375d9b5",
   "metadata": {
    "scrolled": false
   },
   "outputs": [],
   "source": [
    "avg_rgb_scaled = stretch_rgb_image(sum_lights, 2, 98)\n",
    "plt.imshow(avg_rgb_scaled)"
   ]
  },
  {
   "cell_type": "code",
   "execution_count": null,
   "id": "5a7646f7",
   "metadata": {
    "scrolled": false
   },
   "outputs": [],
   "source": [
    "med_rgb_scaled = stretch_rgb_image(med_lights, 2, 98)\n",
    "plt.imshow(med_rgb_scaled)"
   ]
  },
  {
   "cell_type": "code",
   "execution_count": null,
   "id": "9890e278",
   "metadata": {},
   "outputs": [],
   "source": [
    "light_i16 = (med_lights*(2**16-1)/np.max(med_lights)).astype(np.uint16)\n",
    "bgr = cv2.cvtColor(light_i16, cv2.COLOR_RGB2BGR)\n",
    "cv2.imwrite(os.path.join(DATA_BASE, \"test_stack_med_cropped.png\"), bgr, [cv2.IMWRITE_PNG_COMPRESSION, 0])"
   ]
  },
  {
   "cell_type": "markdown",
   "id": "084d5224",
   "metadata": {},
   "source": [
    "## Drizzle summing"
   ]
  },
  {
   "cell_type": "code",
   "execution_count": null,
   "id": "6fe5cbd0",
   "metadata": {},
   "outputs": [],
   "source": [
    "from tqdm.auto import tqdm"
   ]
  },
  {
   "cell_type": "code",
   "execution_count": null,
   "id": "765871ab",
   "metadata": {},
   "outputs": [],
   "source": [
    "drizzle = Drizzle(2000, 4000, 3)\n",
    "images = rgb_lights\n",
    "i = 0\n",
    "for img in tqdm(images):\n",
    "    tx, _ = aa.find_transform(img, images[10])\n",
    "    if i != 50:\n",
    "        drizzle.add_image(np.array(tx), img)\n",
    "    i = i+1"
   ]
  },
  {
   "cell_type": "code",
   "execution_count": null,
   "id": "e4ef49fa",
   "metadata": {},
   "outputs": [],
   "source": [
    "plt.imshow(stretch_rgb_image(drizzle.image.astype(np.float32)))"
   ]
  },
  {
   "cell_type": "code",
   "execution_count": null,
   "id": "5744b9b1",
   "metadata": {},
   "outputs": [],
   "source": [
    "light_i16 = (drizzle.image*(2**16-1)/np.max(drizzle.image)).astype(np.uint16)\n",
    "bgr = cv2.cvtColor(light_i16, cv2.COLOR_RGB2BGR)\n",
    "cv2.imwrite(os.path.join(DATA_BASE, \"test_stack_drizzle.png\"), bgr, [cv2.IMWRITE_PNG_COMPRESSION, 0])"
   ]
  },
  {
   "cell_type": "markdown",
   "id": "7b877802",
   "metadata": {},
   "source": [
    "# "
   ]
  },
  {
   "cell_type": "code",
   "execution_count": null,
   "id": "26933bbb",
   "metadata": {},
   "outputs": [],
   "source": []
  }
 ],
 "metadata": {
  "kernelspec": {
   "display_name": "astro",
   "language": "python",
   "name": "astro"
  },
  "language_info": {
   "codemirror_mode": {
    "name": "ipython",
    "version": 3
   },
   "file_extension": ".py",
   "mimetype": "text/x-python",
   "name": "python",
   "nbconvert_exporter": "python",
   "pygments_lexer": "ipython3",
   "version": "3.11.0"
  }
 },
 "nbformat": 4,
 "nbformat_minor": 5
}
